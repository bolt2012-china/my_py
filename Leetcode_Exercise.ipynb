{
 "cells": [
  {
   "metadata": {},
   "cell_type": "markdown",
   "source": "1.Happy Number",
   "id": "16c71753d9bec9d8"
  },
  {
   "metadata": {},
   "cell_type": "code",
   "source": [
    "def happy(n):\n",
    "    n = input(\"Enter a number: \")\n",
    "    sum = 0\n",
    "    seen = set()\n",
    "    while n != \"1\" or n not in seen:\n",
    "        if n == \"1\":\n",
    "            return True \n",
    "        seen.add(n)\n",
    "        ln = list(map(int, n))\n",
    "        for i in ln:\n",
    "            sum += i*i\n",
    "        n = str(sum)\n",
    "    return False\n",
    "print(happy(5))"
   ],
   "id": "632d635cc1c4078",
   "outputs": [],
   "execution_count": null
  },
  {
   "metadata": {},
   "cell_type": "markdown",
   "source": "2 countprimes",
   "id": "b7102354fb4d6836"
  },
  {
   "metadata": {
    "ExecuteTime": {
     "end_time": "2024-12-10T09:32:02.596209Z",
     "start_time": "2024-12-10T09:32:02.592876Z"
    }
   },
   "cell_type": "code",
   "source": [
    "import math\n",
    "def count_primes(n):\n",
    "    count = 0\n",
    "    for i in range(1, n+1):\n",
    "        for j in range(2, math.ceil(i**0.5) + 1):\n",
    "            if i % j == 0:\n",
    "                break\n",
    "            count += 1\n",
    "    return count\n",
    "print(count_primes(5))"
   ],
   "id": "b4c5c3133136768",
   "outputs": [
    {
     "name": "stdout",
     "output_type": "stream",
     "text": [
      "3\n"
     ]
    }
   ],
   "execution_count": 26
  },
  {
   "metadata": {},
   "cell_type": "markdown",
   "source": "3 Isomorphic Strings",
   "id": "5b82aabbbdfba00f"
  },
  {
   "metadata": {
    "ExecuteTime": {
     "end_time": "2024-12-10T09:47:00.369740Z",
     "start_time": "2024-12-10T09:47:00.356677Z"
    }
   },
   "cell_type": "code",
   "source": [
    "def is_Isomorphic(s,t):\n",
    "    if len(s) != len(t):\n",
    "        return False\n",
    "    ss = list(s)\n",
    "    st = list(t)\n",
    "    dic = {}\n",
    "    for i in range(len(ss)):\n",
    "        for j in range(i+1,len(ss)):\n",
    "            if ss[i] == ss[j] and st[i] == st[j]:\n",
    "                return True\n",
    "            else:\n",
    "                dic[ss[i]] = st[i]\n",
    "        if st[i] != dic[ss[i]]:\n",
    "            return False\n",
    "print(is_Isomorphic(\"foo\",\"dog\"))\n",
    "                "
   ],
   "id": "4a98db6d937d0923",
   "outputs": [
    {
     "name": "stdout",
     "output_type": "stream",
     "text": [
      "False\n"
     ]
    }
   ],
   "execution_count": 30
  },
  {
   "metadata": {},
   "cell_type": "markdown",
   "source": "4 Contains Duplicate",
   "id": "690392149ef75694"
  },
  {
   "metadata": {
    "ExecuteTime": {
     "end_time": "2024-12-10T11:53:37.961805Z",
     "start_time": "2024-12-10T11:53:37.957281Z"
    }
   },
   "cell_type": "code",
   "source": [
    "def is_Duplicate(s):\n",
    "    l = []\n",
    "    for i in s:\n",
    "        if i not in l:\n",
    "            l.append(i)\n",
    "    if len(l)<len(s):\n",
    "        return True\n",
    "    else: return False\n",
    "print(is_Duplicate([1,2,3,4,5,6,7,8,9,2]))"
   ],
   "id": "c1106c35515c7e24",
   "outputs": [
    {
     "name": "stdout",
     "output_type": "stream",
     "text": [
      "True\n"
     ]
    }
   ],
   "execution_count": 47
  },
  {
   "metadata": {},
   "cell_type": "markdown",
   "source": "5 Contains Duplicate II",
   "id": "8ea0a15326bcca8f"
  },
  {
   "metadata": {
    "ExecuteTime": {
     "end_time": "2024-12-10T12:40:03.695329Z",
     "start_time": "2024-12-10T12:40:03.690486Z"
    }
   },
   "cell_type": "code",
   "source": [
    "def is_Duplicate_2(s,k):\n",
    "    l = []\n",
    "    if is_Duplicate(s):\n",
    "        for i in s:\n",
    "            if i not in l:\n",
    "                l.append(i)\n",
    "            else:\n",
    "                break\n",
    "        return True if len(l)==k else False\n",
    "    else:\n",
    "        return False\n",
    "        \n",
    "    \n",
    "print(is_Duplicate_2([1,0,1,0,0,1],2))"
   ],
   "id": "88b10fb5a6073c9b",
   "outputs": [
    {
     "name": "stdout",
     "output_type": "stream",
     "text": [
      "True\n"
     ]
    }
   ],
   "execution_count": 77
  },
  {
   "metadata": {
    "ExecuteTime": {
     "end_time": "2024-12-10T12:39:55.735538Z",
     "start_time": "2024-12-10T12:39:55.731729Z"
    }
   },
   "cell_type": "code",
   "source": [
    "def is_Duplicate_3(s,k):\n",
    "    dic = {}\n",
    "    for i,n in enumerate(s):\n",
    "        dic[n] = i\n",
    "        for n in dic:\n",
    "            if i-dic[n] <= k:\n",
    "                return True\n",
    "        return False\n",
    "print(is_Duplicate_3([1,0,1,0,0,1],9))"
   ],
   "id": "86e7f761e4a03e4f",
   "outputs": [
    {
     "name": "stdout",
     "output_type": "stream",
     "text": [
      "True\n"
     ]
    }
   ],
   "execution_count": 76
  },
  {
   "metadata": {
    "ExecuteTime": {
     "end_time": "2024-12-10T12:25:38.905298Z",
     "start_time": "2024-12-10T12:25:38.898776Z"
    }
   },
   "cell_type": "code",
   "source": [
    "import itertools\n",
    "def split_list(data, split_element):\n",
    "    return [temp_list for temp_list in [list(group) for k, group in itertools.groupby(data, key=lambda x: x == split_element) if not k]]\n",
    "def is_Duplicate_4(s,k):\n",
    "    l = []\n",
    "    def similiar(s):\n",
    "        for i in s:\n",
    "            if i not in l:\n",
    "                l.append(i)\n",
    "            else: return i\n",
    "    result = split_list(s,similiar(s))\n",
    "    for i in result:\n",
    "        if len(i)>k:\n",
    "            return False\n",
    "        return True\n",
    "print(is_Duplicate_4([1,0,1,0,0,1],2))"
   ],
   "id": "716e9575fc8c10e2",
   "outputs": [
    {
     "name": "stdout",
     "output_type": "stream",
     "text": [
      "True\n"
     ]
    }
   ],
   "execution_count": 61
  },
  {
   "metadata": {},
   "cell_type": "code",
   "outputs": [],
   "execution_count": null,
   "source": "",
   "id": "df5f3cbf46938833"
  }
 ],
 "metadata": {
  "kernelspec": {
   "display_name": "Python 3",
   "language": "python",
   "name": "python3"
  },
  "language_info": {
   "codemirror_mode": {
    "name": "ipython",
    "version": 2
   },
   "file_extension": ".py",
   "mimetype": "text/x-python",
   "name": "python",
   "nbconvert_exporter": "python",
   "pygments_lexer": "ipython2",
   "version": "2.7.6"
  }
 },
 "nbformat": 4,
 "nbformat_minor": 5
}
